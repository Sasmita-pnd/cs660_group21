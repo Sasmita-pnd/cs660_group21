{
 "cells": [
  {
   "cell_type": "code",
   "execution_count": 10,
   "id": "e8d98531",
   "metadata": {},
   "outputs": [],
   "source": [
    "import pandas as pd\n",
    "import numpy as np\n",
    "import matplotlib.pyplot as plt\n",
    "import seaborn as sns"
   ]
  },
  {
   "cell_type": "code",
   "execution_count": 11,
   "id": "fff1cd47",
   "metadata": {},
   "outputs": [],
   "source": [
    "#import and preprocess data\n",
    "dataset=pd.read_csv('Finalcombined.csv')\n",
    "X=dataset.iloc[:,:-1] \n",
    "y=dataset.iloc[:,-1] "
   ]
  },
  {
   "cell_type": "code",
   "execution_count": 12,
   "id": "af6c2ef6",
   "metadata": {},
   "outputs": [],
   "source": [
    "from sklearn.model_selection import train_test_split\n",
    "X_train, X_test, y_train, y_test = train_test_split(X, y, test_size=0.3, random_state=0)"
   ]
  },
  {
   "cell_type": "code",
   "execution_count": 13,
   "id": "042ea261",
   "metadata": {},
   "outputs": [
    {
     "data": {
      "text/plain": [
       "LinearRegression()"
      ]
     },
     "execution_count": 13,
     "metadata": {},
     "output_type": "execute_result"
    }
   ],
   "source": [
    "from sklearn.linear_model import LinearRegression\n",
    "LinR=LinearRegression()\n",
    "LinR.fit(X_train,y_train)"
   ]
  },
  {
   "cell_type": "code",
   "execution_count": 15,
   "id": "6e2ff2d1",
   "metadata": {},
   "outputs": [
    {
     "data": {
      "text/plain": [
       "0.5782545374201175"
      ]
     },
     "execution_count": 15,
     "metadata": {},
     "output_type": "execute_result"
    }
   ],
   "source": [
    "from sklearn.model_selection import cross_val_score\n",
    "score=cross_val_score(LinR,X,y,cv=5)\n",
    "\n",
    "score.mean()"
   ]
  },
  {
   "cell_type": "code",
   "execution_count": 16,
   "id": "0df00666",
   "metadata": {},
   "outputs": [
    {
     "name": "stdout",
     "output_type": "stream",
     "text": [
      "-2760.392573715005\n"
     ]
    }
   ],
   "source": [
    "LinR=LinearRegression()\n",
    "mse=cross_val_score(LinR,X,y,scoring='neg_mean_squared_error',cv=5)\n",
    "mean_mse=np.mean(mse)\n",
    "print(mean_mse)"
   ]
  },
  {
   "cell_type": "code",
   "execution_count": 17,
   "id": "6772a6e2",
   "metadata": {},
   "outputs": [],
   "source": [
    "from sklearn.linear_model import Ridge\n",
    "from sklearn.model_selection import GridSearchCV"
   ]
  },
  {
   "cell_type": "code",
   "execution_count": 45,
   "id": "793ce8d4",
   "metadata": {},
   "outputs": [
    {
     "data": {
      "text/plain": [
       "GridSearchCV(cv=5, estimator=Ridge(),\n",
       "             param_grid={'alpha': [1e-11, 1e-10, 1e-08, 0.001, 0.01, 1, 5, 10,\n",
       "                                   20, 30, 35, 40]},\n",
       "             scoring='neg_mean_squared_error')"
      ]
     },
     "execution_count": 45,
     "metadata": {},
     "output_type": "execute_result"
    }
   ],
   "source": [
    "ridge=Ridge()\n",
    "parameters={'alpha':[1e-11,1e-10,1e-8,1e-3,1e-2,1,5,10,20,30,35,40]}\n",
    "ridge_regressor=GridSearchCV(ridge,parameters,scoring='neg_mean_squared_error',cv=5)\n",
    "ridge_regressor.fit(X,y)"
   ]
  },
  {
   "cell_type": "code",
   "execution_count": 47,
   "id": "176c7fbc",
   "metadata": {},
   "outputs": [
    {
     "data": {
      "text/plain": [
       "{'alpha': 1e-11}"
      ]
     },
     "execution_count": 47,
     "metadata": {},
     "output_type": "execute_result"
    }
   ],
   "source": [
    "ridge_regressor.best_params_\n"
   ]
  },
  {
   "cell_type": "code",
   "execution_count": 46,
   "id": "51bd51b3",
   "metadata": {},
   "outputs": [
    {
     "data": {
      "text/plain": [
       "-2760.3925737150103"
      ]
     },
     "execution_count": 46,
     "metadata": {},
     "output_type": "execute_result"
    }
   ],
   "source": [
    "ridge_regressor.best_score_"
   ]
  },
  {
   "cell_type": "code",
   "execution_count": 48,
   "id": "c137ee3f",
   "metadata": {},
   "outputs": [],
   "source": [
    "y_pred=ridge_regressor.predict(X_test)"
   ]
  },
  {
   "cell_type": "code",
   "execution_count": 49,
   "id": "c9e358cb",
   "metadata": {},
   "outputs": [
    {
     "name": "stdout",
     "output_type": "stream",
     "text": [
      "[ 1.06842204e+02  1.63084018e+02  2.05895455e+02  1.66956686e+02\n",
      "  5.66285030e+01  9.83925607e+01  8.00181596e+01  5.83555964e+01\n",
      "  2.58199758e+02  5.15332768e+01  1.93941277e+02  2.27687582e+02\n",
      "  8.66328974e+01  4.57397181e+01  1.01305816e+02  1.87775201e+02\n",
      "  4.79274186e+01  2.22938245e+02  2.46541334e+02  8.01683506e+01\n",
      "  2.50456772e+02  7.31829381e+01  2.05436236e+02  2.12791644e+02\n",
      "  7.77968191e+01  1.42492568e+02  1.85256886e+02  9.06220990e+01\n",
      "  1.01021928e+02  1.57404531e+02  3.23660938e+01  6.43160387e+01\n",
      "  1.50799974e+01  3.32613656e+01  1.68307878e+02  8.27761916e+01\n",
      "  3.39245018e+01  2.27209567e+02  3.36970004e+01  1.19135272e+02\n",
      "  2.50564951e+02  1.91696055e+02  2.07859344e+02  7.77642819e+01\n",
      "  8.85921919e+01 -2.94687900e+01  1.46437370e+02  1.31162891e+02\n",
      "  4.45950521e+01  1.28261264e+02  1.73553525e+02  1.58478697e+01\n",
      "  3.60479937e+01  1.76362642e+02  5.93530024e+01  5.57046718e+00\n",
      "  1.22548483e+01  1.39417840e+02  7.44263308e+01  7.82430973e+01\n",
      "  5.90668797e+01  1.01947626e+02  1.82122034e+02 -1.50532616e+01\n",
      "  2.34018632e+02 -3.17129249e+01  6.26293364e+01 -1.04841773e+01\n",
      "  1.44183513e+02  9.06783974e+01  6.69637843e+01  1.04810733e+02\n",
      "  1.09716027e+02  9.57021700e+01  2.23541836e+02  1.18615736e+02\n",
      "  6.04612317e+01  1.30487939e+01  7.39370226e+01  4.88598656e+01\n",
      "  1.40119924e+02  9.17381468e+01  2.39318401e+02  9.27014835e+01\n",
      "  2.14134337e+02  1.20241365e+02  1.00033304e+02  8.66287994e+01\n",
      "  1.87787461e+02  6.11921145e+01  1.53546421e+02  1.28444818e+02\n",
      " -6.35735089e+00  6.76719490e+01  1.50696550e+02  5.70643847e+01\n",
      "  2.38209311e+02  9.10967153e+01  7.52051635e+01  1.94883811e+02\n",
      "  3.82127253e+01  1.61433745e+02 -7.01303074e+00  1.56979819e+02\n",
      "  1.06378711e+02  1.34065789e+02  3.96782367e+01  1.31690114e+02\n",
      "  6.97687532e+01  5.46246341e+01  8.80008291e+01  2.39385586e+02\n",
      "  1.77182039e+02  1.21118659e+02  6.15371304e+01  5.26235024e+01\n",
      "  9.81955230e+01  5.18815191e+01  4.99992106e+01  2.46452476e+02\n",
      "  2.62244498e+01  3.36308148e+00  2.07467990e+02  1.74820647e+02\n",
      "  1.15384761e+02  1.60714730e+02  1.20520652e+02  1.18618913e+02\n",
      "  2.07774133e+02  5.02122432e+01  2.28635171e+01  4.62076250e+01\n",
      "  1.68470557e+02  1.71389974e+02  1.97118868e+02  1.15184061e+02\n",
      "  5.17136949e+01  1.72796915e+02  1.20615114e+02  2.03500430e+02\n",
      "  1.18198731e+02  5.92697171e+01  1.84643280e+02  4.32503214e+00\n",
      "  1.58578309e+02  1.16916572e+02  3.70808672e+00  9.65699506e+01\n",
      "  1.60043761e+02  9.39487000e+01  2.77340166e+01  2.52383193e+02\n",
      "  5.49505527e+01  1.43777041e+02  1.43547567e+02  1.28562313e+02\n",
      "  1.72979346e+02  1.44881432e+02  1.13530938e+02  2.33231385e+01\n",
      "  7.29002161e+01  1.63714483e+02  1.01909750e+02  1.23165004e+02\n",
      "  1.07747250e+02  1.66252895e+02  1.56285043e+02  1.45386850e+01\n",
      "  8.36180443e+01  1.48667582e+02  5.79207855e+01  7.76978778e+01\n",
      "  9.91034736e+01  1.69030949e+02  1.57230380e+02  4.62486261e+01\n",
      "  1.81054689e+02  3.47790056e+01  5.89173424e+00  9.97710219e+01\n",
      "  5.68373636e+01  1.96469733e+02  3.29412821e+01  1.19420648e+01\n",
      "  1.14871370e+02  2.19322772e+02  6.60397431e+01  9.79171019e+01\n",
      "  1.17897823e+02  1.27309855e+02  9.26662841e+01  9.20575009e+01\n",
      "  1.30848630e+02  1.75745892e+02  8.57682828e+01  7.68664954e+01\n",
      "  2.17014962e+02  5.93474491e+01  1.77747917e+02  1.11246922e+02\n",
      "  1.65045645e+00 -9.67202673e+00  2.08244317e+02  3.92982380e+01\n",
      "  1.87928103e+02 -1.88920268e+00  2.50868720e+01  1.21147209e+02\n",
      " -2.80285190e+01  7.85571663e+01  1.48531993e+02  1.00048246e+02\n",
      "  3.97069531e+01 -9.12915660e+00  4.84218378e+01  2.29692745e+02\n",
      "  7.44975071e+01  2.07128413e+00  1.61509496e+02  7.13187383e+01\n",
      "  1.49996159e+02  1.08668051e+02  1.14707081e+02  2.27806124e+02\n",
      "  5.30931484e+01  3.62897676e+01  5.12144787e+01  3.75858355e+01\n",
      "  7.31693734e+01  2.38850024e+02  4.29303894e+01  2.21097733e+02\n",
      "  2.85855064e+01  2.21305879e+02  2.01923391e+02  1.46006264e+02\n",
      "  1.60552831e+02  1.40279254e+02 -2.69010509e+01  2.51401831e+02\n",
      "  1.06075719e+02  5.37047540e+01  5.02640602e+00  1.51251335e+02\n",
      "  1.56619647e+02  4.72693565e+01  1.20165741e+02  2.16790307e+02\n",
      "  7.85358533e+01  3.67422632e+01  1.51300525e+02 -2.45903293e+00\n",
      " -1.46265195e-01  9.85264666e+01  6.23607927e+01  1.23304798e+02\n",
      " -1.29985128e-02  2.65075001e+02  1.17477689e+02  7.19143267e+01\n",
      "  1.48844203e+02  1.83931737e+02  8.05937086e+01  1.00104976e+02\n",
      "  3.02001913e+01  1.01033470e+02  2.46234192e+02  1.15176038e+02\n",
      "  1.05046960e+02  2.00877809e+02  1.84097616e+02  1.34868615e+01\n",
      "  7.46609377e+01  2.15143948e+02  1.17066602e+02  9.92633505e+01\n",
      "  2.06909569e+02  1.47559728e+02  2.03608122e+02  7.62717945e+01\n",
      "  8.85184833e+01  1.20749800e+02  4.34179006e+01  1.71904810e+02\n",
      "  1.02097954e+01  2.46784850e+02  1.23663224e+02  2.16956682e+02\n",
      "  4.47824321e+01  1.68980070e+02  5.79938387e+01  2.41347370e+02\n",
      "  1.06681770e+02  1.65364583e+02  1.55291709e+02  2.40556132e+02\n",
      "  1.27918641e+02  1.73628791e+02  3.85479626e+01  8.07971035e+01\n",
      "  1.69312523e+02  9.60847613e+01  2.13593356e+02  5.68106373e+01\n",
      "  2.49449515e+02  4.93846725e+01  7.00702264e+01  5.41041129e+01\n",
      "  8.63304808e+01  1.69099795e+02  8.97776954e+01 -4.99792442e+00\n",
      "  1.84852608e+02  2.12483203e+02  1.05784294e+02]\n"
     ]
    }
   ],
   "source": [
    "print(y_pred)"
   ]
  },
  {
   "cell_type": "code",
   "execution_count": null,
   "id": "218ee156",
   "metadata": {},
   "outputs": [],
   "source": []
  }
 ],
 "metadata": {
  "kernelspec": {
   "display_name": "Python 3",
   "language": "python",
   "name": "python3"
  },
  "language_info": {
   "codemirror_mode": {
    "name": "ipython",
    "version": 3
   },
   "file_extension": ".py",
   "mimetype": "text/x-python",
   "name": "python",
   "nbconvert_exporter": "python",
   "pygments_lexer": "ipython3",
   "version": "3.8.8"
  }
 },
 "nbformat": 4,
 "nbformat_minor": 5
}
