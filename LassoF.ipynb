{
 "cells": [
  {
   "cell_type": "code",
   "execution_count": 1,
   "id": "39852931",
   "metadata": {},
   "outputs": [],
   "source": [
    "import pandas as pd\n",
    "import numpy as np\n",
    "import matplotlib.pyplot as plt\n",
    "import seaborn as sns"
   ]
  },
  {
   "cell_type": "code",
   "execution_count": 2,
   "id": "d9e25651",
   "metadata": {},
   "outputs": [],
   "source": [
    "#import and preprocess data\n",
    "dataset=pd.read_csv('Finalcombined.csv')\n",
    "X=dataset.iloc[:,:-1] \n",
    "y=dataset.iloc[:,-1] "
   ]
  },
  {
   "cell_type": "code",
   "execution_count": 3,
   "id": "18cda4e2",
   "metadata": {},
   "outputs": [],
   "source": [
    "from sklearn.model_selection import train_test_split\n",
    "X_train, X_test, y_train, y_test = train_test_split(X, y, test_size=0.3, random_state=0)"
   ]
  },
  {
   "cell_type": "code",
   "execution_count": 4,
   "id": "ead79fad",
   "metadata": {},
   "outputs": [
    {
     "data": {
      "text/plain": [
       "LinearRegression()"
      ]
     },
     "execution_count": 4,
     "metadata": {},
     "output_type": "execute_result"
    }
   ],
   "source": [
    "from sklearn.linear_model import LinearRegression\n",
    "LinR=LinearRegression()\n",
    "LinR.fit(X_train,y_train)"
   ]
  },
  {
   "cell_type": "code",
   "execution_count": 5,
   "id": "1f65b08e",
   "metadata": {},
   "outputs": [
    {
     "data": {
      "text/plain": [
       "0.5782545374201175"
      ]
     },
     "execution_count": 5,
     "metadata": {},
     "output_type": "execute_result"
    }
   ],
   "source": [
    "from sklearn.model_selection import cross_val_score\n",
    "score=cross_val_score(LinR,X,y,cv=5)\n",
    "\n",
    "score.mean()"
   ]
  },
  {
   "cell_type": "code",
   "execution_count": 6,
   "id": "02c3b12d",
   "metadata": {},
   "outputs": [
    {
     "name": "stdout",
     "output_type": "stream",
     "text": [
      "-2760.392573715005\n"
     ]
    }
   ],
   "source": [
    "LinR=LinearRegression()\n",
    "mse=cross_val_score(LinR,X,y,scoring='neg_mean_squared_error',cv=5)\n",
    "mean_mse=np.mean(mse)\n",
    "print(mean_mse)"
   ]
  },
  {
   "cell_type": "code",
   "execution_count": 7,
   "id": "05390ba9",
   "metadata": {},
   "outputs": [],
   "source": [
    "from sklearn.linear_model import Lasso\n",
    "from sklearn.model_selection import GridSearchCV"
   ]
  },
  {
   "cell_type": "code",
   "execution_count": 8,
   "id": "4a020982",
   "metadata": {
    "scrolled": true
   },
   "outputs": [
    {
     "name": "stderr",
     "output_type": "stream",
     "text": [
      "C:\\Users\\sas\\anaconda3\\lib\\site-packages\\sklearn\\linear_model\\_coordinate_descent.py:530: ConvergenceWarning: Objective did not converge. You might want to increase the number of iterations. Duality gap: 1072170.5733660753, tolerance: 704.1743337037426\n",
      "  model = cd_fast.enet_coordinate_descent(\n",
      "C:\\Users\\sas\\anaconda3\\lib\\site-packages\\sklearn\\linear_model\\_coordinate_descent.py:530: ConvergenceWarning: Objective did not converge. You might want to increase the number of iterations. Duality gap: 922233.2496229358, tolerance: 600.7584917329679\n",
      "  model = cd_fast.enet_coordinate_descent(\n",
      "C:\\Users\\sas\\anaconda3\\lib\\site-packages\\sklearn\\linear_model\\_coordinate_descent.py:530: ConvergenceWarning: Objective did not converge. You might want to increase the number of iterations. Duality gap: 1033163.6356860211, tolerance: 658.8330918379976\n",
      "  model = cd_fast.enet_coordinate_descent(\n",
      "C:\\Users\\sas\\anaconda3\\lib\\site-packages\\sklearn\\linear_model\\_coordinate_descent.py:530: ConvergenceWarning: Objective did not converge. You might want to increase the number of iterations. Duality gap: 826285.8405933988, tolerance: 561.9257337567343\n",
      "  model = cd_fast.enet_coordinate_descent(\n",
      "C:\\Users\\sas\\anaconda3\\lib\\site-packages\\sklearn\\linear_model\\_coordinate_descent.py:530: ConvergenceWarning: Objective did not converge. You might want to increase the number of iterations. Duality gap: 923211.006072151, tolerance: 561.3770739332857\n",
      "  model = cd_fast.enet_coordinate_descent(\n",
      "C:\\Users\\sas\\anaconda3\\lib\\site-packages\\sklearn\\linear_model\\_coordinate_descent.py:530: ConvergenceWarning: Objective did not converge. You might want to increase the number of iterations. Duality gap: 1072170.5089696043, tolerance: 704.1743337037426\n",
      "  model = cd_fast.enet_coordinate_descent(\n",
      "C:\\Users\\sas\\anaconda3\\lib\\site-packages\\sklearn\\linear_model\\_coordinate_descent.py:530: ConvergenceWarning: Objective did not converge. You might want to increase the number of iterations. Duality gap: 922232.548960839, tolerance: 600.7584917329679\n",
      "  model = cd_fast.enet_coordinate_descent(\n",
      "C:\\Users\\sas\\anaconda3\\lib\\site-packages\\sklearn\\linear_model\\_coordinate_descent.py:530: ConvergenceWarning: Objective did not converge. You might want to increase the number of iterations. Duality gap: 1033163.5513959784, tolerance: 658.8330918379976\n",
      "  model = cd_fast.enet_coordinate_descent(\n",
      "C:\\Users\\sas\\anaconda3\\lib\\site-packages\\sklearn\\linear_model\\_coordinate_descent.py:530: ConvergenceWarning: Objective did not converge. You might want to increase the number of iterations. Duality gap: 826285.6565874022, tolerance: 561.9257337567343\n",
      "  model = cd_fast.enet_coordinate_descent(\n",
      "C:\\Users\\sas\\anaconda3\\lib\\site-packages\\sklearn\\linear_model\\_coordinate_descent.py:530: ConvergenceWarning: Objective did not converge. You might want to increase the number of iterations. Duality gap: 923210.9470814484, tolerance: 561.3770739332857\n",
      "  model = cd_fast.enet_coordinate_descent(\n",
      "C:\\Users\\sas\\anaconda3\\lib\\site-packages\\sklearn\\linear_model\\_coordinate_descent.py:530: ConvergenceWarning: Objective did not converge. You might want to increase the number of iterations. Duality gap: 1065759.7444535154, tolerance: 704.1743337037426\n",
      "  model = cd_fast.enet_coordinate_descent(\n",
      "C:\\Users\\sas\\anaconda3\\lib\\site-packages\\sklearn\\linear_model\\_coordinate_descent.py:530: ConvergenceWarning: Objective did not converge. You might want to increase the number of iterations. Duality gap: 855072.6049636109, tolerance: 600.7584917329679\n",
      "  model = cd_fast.enet_coordinate_descent(\n",
      "C:\\Users\\sas\\anaconda3\\lib\\site-packages\\sklearn\\linear_model\\_coordinate_descent.py:530: ConvergenceWarning: Objective did not converge. You might want to increase the number of iterations. Duality gap: 1024785.848935189, tolerance: 658.8330918379976\n",
      "  model = cd_fast.enet_coordinate_descent(\n",
      "C:\\Users\\sas\\anaconda3\\lib\\site-packages\\sklearn\\linear_model\\_coordinate_descent.py:530: ConvergenceWarning: Objective did not converge. You might want to increase the number of iterations. Duality gap: 808187.8763558745, tolerance: 561.9257337567343\n",
      "  model = cd_fast.enet_coordinate_descent(\n",
      "C:\\Users\\sas\\anaconda3\\lib\\site-packages\\sklearn\\linear_model\\_coordinate_descent.py:530: ConvergenceWarning: Objective did not converge. You might want to increase the number of iterations. Duality gap: 917340.0118906253, tolerance: 561.3770739332857\n",
      "  model = cd_fast.enet_coordinate_descent(\n",
      "C:\\Users\\sas\\anaconda3\\lib\\site-packages\\sklearn\\linear_model\\_coordinate_descent.py:530: ConvergenceWarning: Objective did not converge. You might want to increase the number of iterations. Duality gap: 634115.5567147766, tolerance: 704.1743337037426\n",
      "  model = cd_fast.enet_coordinate_descent(\n",
      "C:\\Users\\sas\\anaconda3\\lib\\site-packages\\sklearn\\linear_model\\_coordinate_descent.py:530: ConvergenceWarning: Objective did not converge. You might want to increase the number of iterations. Duality gap: 39158.81574869412, tolerance: 600.7584917329679\n",
      "  model = cd_fast.enet_coordinate_descent(\n",
      "C:\\Users\\sas\\anaconda3\\lib\\site-packages\\sklearn\\linear_model\\_coordinate_descent.py:530: ConvergenceWarning: Objective did not converge. You might want to increase the number of iterations. Duality gap: 521205.66404137877, tolerance: 658.8330918379976\n",
      "  model = cd_fast.enet_coordinate_descent(\n",
      "C:\\Users\\sas\\anaconda3\\lib\\site-packages\\sklearn\\linear_model\\_coordinate_descent.py:530: ConvergenceWarning: Objective did not converge. You might want to increase the number of iterations. Duality gap: 184985.88681702234, tolerance: 561.9257337567343\n",
      "  model = cd_fast.enet_coordinate_descent(\n",
      "C:\\Users\\sas\\anaconda3\\lib\\site-packages\\sklearn\\linear_model\\_coordinate_descent.py:530: ConvergenceWarning: Objective did not converge. You might want to increase the number of iterations. Duality gap: 530260.2847070638, tolerance: 561.3770739332857\n",
      "  model = cd_fast.enet_coordinate_descent(\n",
      "C:\\Users\\sas\\anaconda3\\lib\\site-packages\\sklearn\\linear_model\\_coordinate_descent.py:530: ConvergenceWarning: Objective did not converge. You might want to increase the number of iterations. Duality gap: 1214030.8710098926, tolerance: 775.104630386406\n",
      "  model = cd_fast.enet_coordinate_descent(\n"
     ]
    },
    {
     "data": {
      "text/plain": [
       "GridSearchCV(cv=5, estimator=Lasso(),\n",
       "             param_grid={'alpha': [1e-20, 1e-05, 1e-15, 1e-10, 1e-08, 0.001,\n",
       "                                   0.01, 1, 5, 10, 20, 30, 35, 40]},\n",
       "             scoring='neg_mean_squared_error')"
      ]
     },
     "execution_count": 8,
     "metadata": {},
     "output_type": "execute_result"
    }
   ],
   "source": [
    "lasso=Lasso()\n",
    "parameters={'alpha':[1e-20,1e-5,1e-15,1e-10,1e-8,1e-3,1e-2,1,5,10,20,30,35,40]}\n",
    "lasso_regressor=GridSearchCV(lasso,parameters,scoring='neg_mean_squared_error',cv=5)\n",
    "\n",
    "lasso_regressor.fit(X,y)"
   ]
  },
  {
   "cell_type": "code",
   "execution_count": 14,
   "id": "f590b52c",
   "metadata": {},
   "outputs": [
    {
     "data": {
      "text/plain": [
       "{'alpha': 1e-15}"
      ]
     },
     "execution_count": 14,
     "metadata": {},
     "output_type": "execute_result"
    }
   ],
   "source": [
    "lasso_regressor.best_params_"
   ]
  },
  {
   "cell_type": "code",
   "execution_count": 10,
   "id": "c47218e5",
   "metadata": {},
   "outputs": [
    {
     "data": {
      "text/plain": [
       "-2760.3925738642843"
      ]
     },
     "execution_count": 10,
     "metadata": {},
     "output_type": "execute_result"
    }
   ],
   "source": [
    "lasso_regressor.best_score_"
   ]
  },
  {
   "cell_type": "code",
   "execution_count": 9,
   "id": "3263d641",
   "metadata": {},
   "outputs": [],
   "source": [
    "prediction=lasso_regressor.predict(X_test)"
   ]
  },
  {
   "cell_type": "code",
   "execution_count": 10,
   "id": "cc3592bb",
   "metadata": {},
   "outputs": [
    {
     "name": "stdout",
     "output_type": "stream",
     "text": [
      "MAE: 34.31529029728029\n",
      "MSE: 2203.686005695834\n",
      "RMSE: 46.94343410633519\n"
     ]
    }
   ],
   "source": [
    "from sklearn import metrics\n",
    "print('MAE:', metrics.mean_absolute_error(y_test, prediction))\n",
    "print('MSE:', metrics.mean_squared_error(y_test, prediction))\n",
    "print('RMSE:', np.sqrt(metrics.mean_squared_error(y_test, prediction)))"
   ]
  },
  {
   "cell_type": "code",
   "execution_count": null,
   "id": "6f7d3f58",
   "metadata": {},
   "outputs": [],
   "source": []
  }
 ],
 "metadata": {
  "kernelspec": {
   "display_name": "Python 3",
   "language": "python",
   "name": "python3"
  },
  "language_info": {
   "codemirror_mode": {
    "name": "ipython",
    "version": 3
   },
   "file_extension": ".py",
   "mimetype": "text/x-python",
   "name": "python",
   "nbconvert_exporter": "python",
   "pygments_lexer": "ipython3",
   "version": "3.8.8"
  }
 },
 "nbformat": 4,
 "nbformat_minor": 5
}
