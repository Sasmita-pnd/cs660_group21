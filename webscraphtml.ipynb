{
 "cells": [
  {
   "cell_type": "code",
   "execution_count": 1,
   "id": "b8c86b9e",
   "metadata": {},
   "outputs": [],
   "source": [
    "import os\n",
    "import sys\n",
    "import pandas as pd\n",
    "import requests\n",
    "import time"
   ]
  },
  {
   "cell_type": "code",
   "execution_count": 7,
   "id": "2ad7cf17",
   "metadata": {},
   "outputs": [],
   "source": [
    "url=\"https://en.tutiempo.net/climate/01-2018/ws-421810.html\"\n",
    "texts=requests.get(url)\n",
    "text_utf=texts.text.encode('utf=8')\n",
    "\n",
    "if not os.path.exists(\"/A/Html_Data/2018\"):\n",
    "                os.makedirs(\"/A/Html_Data/2018\")\n",
    "with open(\"/A/Html_Data/2018/1.html\",\"wb\") as output:\n",
    "                    output.write(text_utf)\n",
    "                "
   ]
  },
  {
   "cell_type": "code",
   "execution_count": 8,
   "id": "e28fce00",
   "metadata": {},
   "outputs": [],
   "source": [
    "url=\"https://en.tutiempo.net/climate/02-2018/ws-421810.html\"\n",
    "texts=requests.get(url)\n",
    "text_utf=texts.text.encode('utf=8')\n",
    "\n",
    "if not os.path.exists(\"/A/Html_Data/2018\"):\n",
    "                os.makedirs(\"/A/Html_Data/2018\")\n",
    "with open(\"/A/Html_Data/2018/2.html\",\"wb\") as output:\n",
    "                    output.write(text_utf)"
   ]
  },
  {
   "cell_type": "code",
   "execution_count": 9,
   "id": "6b07836c",
   "metadata": {},
   "outputs": [],
   "source": [
    "url=\"https://en.tutiempo.net/climate/03-2018/ws-421810.html\"\n",
    "texts=requests.get(url)\n",
    "text_utf=texts.text.encode('utf=8')\n",
    "\n",
    "if not os.path.exists(\"/A/Html_Data/2018\"):\n",
    "                os.makedirs(\"/A/Html_Data/2018\")\n",
    "with open(\"/A/Html_Data/2018/3.html\",\"wb\") as output:\n",
    "                    output.write(text_utf)"
   ]
  },
  {
   "cell_type": "code",
   "execution_count": 10,
   "id": "72c00de7",
   "metadata": {},
   "outputs": [],
   "source": [
    "url=\"https://en.tutiempo.net/climate/04-2018/ws-421810.html\"\n",
    "texts=requests.get(url)\n",
    "text_utf=texts.text.encode('utf=8')\n",
    "\n",
    "if not os.path.exists(\"/A/Html_Data/2018\"):\n",
    "                os.makedirs(\"/A/Html_Data/2018\")\n",
    "with open(\"/A/Html_Data/2018/4.html\",\"wb\") as output:\n",
    "                    output.write(text_utf)"
   ]
  },
  {
   "cell_type": "code",
   "execution_count": 11,
   "id": "0ab56a30",
   "metadata": {},
   "outputs": [],
   "source": [
    "url=\"https://en.tutiempo.net/climate/05-2018/ws-421810.html\"\n",
    "texts=requests.get(url)\n",
    "text_utf=texts.text.encode('utf=8')\n",
    "\n",
    "if not os.path.exists(\"/A/Html_Data/2018\"):\n",
    "                os.makedirs(\"/A/Html_Data/2018\")\n",
    "with open(\"/A/Html_Data/2018/5.html\",\"wb\") as output:\n",
    "                    output.write(text_utf)"
   ]
  },
  {
   "cell_type": "code",
   "execution_count": 12,
   "id": "dd43272b",
   "metadata": {},
   "outputs": [],
   "source": [
    "url=\"https://en.tutiempo.net/climate/06-2018/ws-421810.html\"\n",
    "texts=requests.get(url)\n",
    "text_utf=texts.text.encode('utf=8')\n",
    "\n",
    "if not os.path.exists(\"/A/Html_Data/2018\"):\n",
    "                os.makedirs(\"/A/Html_Data/2018\")\n",
    "with open(\"/A/Html_Data/2018/6.html\",\"wb\") as output:\n",
    "                    output.write(text_utf)"
   ]
  },
  {
   "cell_type": "code",
   "execution_count": 13,
   "id": "cf33af91",
   "metadata": {},
   "outputs": [],
   "source": [
    "url=\"https://en.tutiempo.net/climate/07-2018/ws-421810.html\"\n",
    "texts=requests.get(url)\n",
    "text_utf=texts.text.encode('utf=8')\n",
    "\n",
    "if not os.path.exists(\"/A/Html_Data/2018\"):\n",
    "                os.makedirs(\"/A/Html_Data/2018\")\n",
    "with open(\"/A/Html_Data/2018/7.html\",\"wb\") as output:\n",
    "                    output.write(text_utf)"
   ]
  },
  {
   "cell_type": "code",
   "execution_count": 14,
   "id": "80f44a1c",
   "metadata": {},
   "outputs": [],
   "source": [
    "url=\"https://en.tutiempo.net/climate/08-2018/ws-421810.html\"\n",
    "texts=requests.get(url)\n",
    "text_utf=texts.text.encode('utf=8')\n",
    "\n",
    "if not os.path.exists(\"/A/Html_Data/2018\"):\n",
    "                os.makedirs(\"/A/Html_Data/2018\")\n",
    "with open(\"/A/Html_Data/2018/8.html\",\"wb\") as output:\n",
    "                    output.write(text_utf)"
   ]
  },
  {
   "cell_type": "code",
   "execution_count": 15,
   "id": "3edba971",
   "metadata": {},
   "outputs": [],
   "source": [
    "url=\"https://en.tutiempo.net/climate/09-2018/ws-421810.html\"\n",
    "texts=requests.get(url)\n",
    "text_utf=texts.text.encode('utf=8')\n",
    "\n",
    "if not os.path.exists(\"/A/Html_Data/2018\"):\n",
    "                os.makedirs(\"/A/Html_Data/2018\")\n",
    "with open(\"/A/Html_Data/2018/9.html\",\"wb\") as output:\n",
    "                    output.write(text_utf)"
   ]
  },
  {
   "cell_type": "code",
   "execution_count": 16,
   "id": "75b04156",
   "metadata": {},
   "outputs": [],
   "source": [
    "url=\"https://en.tutiempo.net/climate/10-2018/ws-421810.html\"\n",
    "texts=requests.get(url)\n",
    "text_utf=texts.text.encode('utf=8')\n",
    "\n",
    "if not os.path.exists(\"/A/Html_Data/2018\"):\n",
    "                os.makedirs(\"/A/Html_Data/2018\")\n",
    "with open(\"/A/Html_Data/2018/10.html\",\"wb\") as output:\n",
    "                    output.write(text_utf)"
   ]
  },
  {
   "cell_type": "code",
   "execution_count": 17,
   "id": "6a1bdb9a",
   "metadata": {},
   "outputs": [],
   "source": [
    "url=\"https://en.tutiempo.net/climate/11-2018/ws-421810.html\"\n",
    "texts=requests.get(url)\n",
    "text_utf=texts.text.encode('utf=8')\n",
    "\n",
    "if not os.path.exists(\"/A/Html_Data/2018\"):\n",
    "                os.makedirs(\"/A/Html_Data/2018\")\n",
    "with open(\"/A/Html_Data/2018/11.html\",\"wb\") as output:\n",
    "                    output.write(text_utf)"
   ]
  },
  {
   "cell_type": "code",
   "execution_count": 18,
   "id": "2009e0ab",
   "metadata": {},
   "outputs": [],
   "source": [
    "url=\"https://en.tutiempo.net/climate/12-2018/ws-421810.html\"\n",
    "texts=requests.get(url)\n",
    "text_utf=texts.text.encode('utf=8')\n",
    "\n",
    "if not os.path.exists(\"/A/Html_Data/2018\"):\n",
    "                os.makedirs(\"/A/Html_Data/2018\")\n",
    "with open(\"/A/Html_Data/2018/12.html\",\"wb\") as output:\n",
    "                    output.write(text_utf)"
   ]
  },
  {
   "cell_type": "code",
   "execution_count": null,
   "id": "86f58b90",
   "metadata": {},
   "outputs": [],
   "source": [
    "url=\"https://en.tutiempo.net/climate/01-2018/ws-421810.html\"\n",
    "texts=requests.get(url)\n",
    "text_utf=texts.text.encode('utf=8')\n",
    "\n",
    "if not os.path.exists(\"/A/Html_Data/2018\"):\n",
    "                os.makedirs(\"/A/Html_Data/2018\")\n",
    "with open(\"/A/Html_Data/2018/1.html\",\"wb\") as output:\n",
    "                    output.write(text_utf)"
   ]
  },
  {
   "cell_type": "code",
   "execution_count": 22,
   "id": "6039ad55",
   "metadata": {},
   "outputs": [],
   "source": [
    "url=\"https://en.tutiempo.net/climate/01-2019/ws-421810.html\"\n",
    "texts=requests.get(url)\n",
    "text_utf=texts.text.encode('utf=8')\n",
    "\n",
    "if not os.path.exists(\"/A/Html_Data/2019\"):\n",
    "                os.makedirs(\"/A/Html_Data/2019\")\n",
    "with open(\"/A/Html_Data/2019/1.html\",\"wb\") as output:\n",
    "                    output.write(text_utf)"
   ]
  },
  {
   "cell_type": "code",
   "execution_count": 23,
   "id": "2060eabd",
   "metadata": {},
   "outputs": [],
   "source": [
    "url=\"https://en.tutiempo.net/climate/02-2019/ws-421810.html\"\n",
    "texts=requests.get(url)\n",
    "text_utf=texts.text.encode('utf=8')\n",
    "\n",
    "if not os.path.exists(\"/A/Html_Data/2019\"):\n",
    "                os.makedirs(\"/A/Html_Data/2019\")\n",
    "with open(\"/A/Html_Data/2019/2.html\",\"wb\") as output:\n",
    "                    output.write(text_utf)"
   ]
  },
  {
   "cell_type": "code",
   "execution_count": 24,
   "id": "6f63d7b9",
   "metadata": {},
   "outputs": [],
   "source": [
    "url=\"https://en.tutiempo.net/climate/03-2019/ws-421810.html\"\n",
    "texts=requests.get(url)\n",
    "text_utf=texts.text.encode('utf=8')\n",
    "\n",
    "if not os.path.exists(\"/A/Html_Data/2019\"):\n",
    "                os.makedirs(\"/A/Html_Data/2019\")\n",
    "with open(\"/A/Html_Data/2019/3.html\",\"wb\") as output:\n",
    "                    output.write(text_utf)"
   ]
  },
  {
   "cell_type": "code",
   "execution_count": 25,
   "id": "cf700681",
   "metadata": {},
   "outputs": [],
   "source": [
    "url=\"https://en.tutiempo.net/climate/04-2019/ws-421810.html\"\n",
    "texts=requests.get(url)\n",
    "text_utf=texts.text.encode('utf=8')\n",
    "\n",
    "if not os.path.exists(\"/A/Html_Data/2019\"):\n",
    "                os.makedirs(\"/A/Html_Data/2019\")\n",
    "with open(\"/A/Html_Data/2019/4.html\",\"wb\") as output:\n",
    "                    output.write(text_utf)"
   ]
  },
  {
   "cell_type": "code",
   "execution_count": 26,
   "id": "57511966",
   "metadata": {},
   "outputs": [],
   "source": [
    "url=\"https://en.tutiempo.net/climate/05-2019/ws-421810.html\"\n",
    "texts=requests.get(url)\n",
    "text_utf=texts.text.encode('utf=8')\n",
    "\n",
    "if not os.path.exists(\"/A/Html_Data/2019\"):\n",
    "                os.makedirs(\"/A/Html_Data/2019\")\n",
    "with open(\"/A/Html_Data/2019/5.html\",\"wb\") as output:\n",
    "                    output.write(text_utf)"
   ]
  },
  {
   "cell_type": "code",
   "execution_count": 27,
   "id": "bc9b5c6f",
   "metadata": {},
   "outputs": [],
   "source": [
    "url=\"https://en.tutiempo.net/climate/06-2019/ws-421810.html\"\n",
    "texts=requests.get(url)\n",
    "text_utf=texts.text.encode('utf=8')\n",
    "\n",
    "if not os.path.exists(\"/A/Html_Data/2019\"):\n",
    "                os.makedirs(\"/A/Html_Data/2019\")\n",
    "with open(\"/A/Html_Data/2019/6.html\",\"wb\") as output:\n",
    "                    output.write(text_utf)"
   ]
  },
  {
   "cell_type": "code",
   "execution_count": 28,
   "id": "1b726606",
   "metadata": {},
   "outputs": [],
   "source": [
    "url=\"https://en.tutiempo.net/climate/07-2019/ws-421810.html\"\n",
    "texts=requests.get(url)\n",
    "text_utf=texts.text.encode('utf=8')\n",
    "\n",
    "if not os.path.exists(\"/A/Html_Data/2019\"):\n",
    "                os.makedirs(\"/A/Html_Data/2019\")\n",
    "with open(\"/A/Html_Data/2019/7.html\",\"wb\") as output:\n",
    "                    output.write(text_utf)"
   ]
  },
  {
   "cell_type": "code",
   "execution_count": 29,
   "id": "f6f8aa03",
   "metadata": {},
   "outputs": [],
   "source": [
    "url=\"https://en.tutiempo.net/climate/08-2019/ws-421810.html\"\n",
    "texts=requests.get(url)\n",
    "text_utf=texts.text.encode('utf=8')\n",
    "\n",
    "if not os.path.exists(\"/A/Html_Data/2019\"):\n",
    "                os.makedirs(\"/A/Html_Data/2019\")\n",
    "with open(\"/A/Html_Data/2019/8.html\",\"wb\") as output:\n",
    "                    output.write(text_utf)"
   ]
  },
  {
   "cell_type": "code",
   "execution_count": 30,
   "id": "03b2ea7a",
   "metadata": {},
   "outputs": [],
   "source": [
    "url=\"https://en.tutiempo.net/climate/09-2019/ws-421810.html\"\n",
    "texts=requests.get(url)\n",
    "text_utf=texts.text.encode('utf=8')\n",
    "\n",
    "if not os.path.exists(\"/A/Html_Data/2019\"):\n",
    "                os.makedirs(\"/A/Html_Data/2019\")\n",
    "with open(\"/A/Html_Data/2019/9.html\",\"wb\") as output:\n",
    "                    output.write(text_utf)"
   ]
  },
  {
   "cell_type": "code",
   "execution_count": 31,
   "id": "b1bf36a6",
   "metadata": {},
   "outputs": [],
   "source": [
    "url=\"https://en.tutiempo.net/climate/10-2019/ws-421810.html\"\n",
    "texts=requests.get(url)\n",
    "text_utf=texts.text.encode('utf=8')\n",
    "\n",
    "if not os.path.exists(\"/A/Html_Data/2019\"):\n",
    "                os.makedirs(\"/A/Html_Data/2019\")\n",
    "with open(\"/A/Html_Data/2019/10.html\",\"wb\") as output:\n",
    "                    output.write(text_utf)"
   ]
  },
  {
   "cell_type": "code",
   "execution_count": 32,
   "id": "fed50926",
   "metadata": {},
   "outputs": [],
   "source": [
    "url=\"https://en.tutiempo.net/climate/11-2019/ws-421810.html\"\n",
    "texts=requests.get(url)\n",
    "text_utf=texts.text.encode('utf=8')\n",
    "\n",
    "if not os.path.exists(\"/A/Html_Data/2019\"):\n",
    "                os.makedirs(\"/A/Html_Data/2019\")\n",
    "with open(\"/A/Html_Data/2019/11.html\",\"wb\") as output:\n",
    "                    output.write(text_utf)"
   ]
  },
  {
   "cell_type": "code",
   "execution_count": 33,
   "id": "3d8797f1",
   "metadata": {},
   "outputs": [],
   "source": [
    "url=\"https://en.tutiempo.net/climate/12-2019/ws-421810.html\"\n",
    "texts=requests.get(url)\n",
    "text_utf=texts.text.encode('utf=8')\n",
    "\n",
    "if not os.path.exists(\"/A/Html_Data/2019\"):\n",
    "                os.makedirs(\"/A/Html_Data/2019\")\n",
    "with open(\"/A/Html_Data/2019/12.html\",\"wb\") as output:\n",
    "                    output.write(text_utf)"
   ]
  },
  {
   "cell_type": "code",
   "execution_count": 35,
   "id": "7a86e8f9",
   "metadata": {},
   "outputs": [],
   "source": [
    "url=\"https://en.tutiempo.net/climate/01-2020/ws-421810.html\"\n",
    "texts=requests.get(url)\n",
    "text_utf=texts.text.encode('utf=8')\n",
    "\n",
    "if not os.path.exists(\"/A/Html_Data/2020\"):\n",
    "                os.makedirs(\"/A/Html_Data/2020\")\n",
    "with open(\"/A/Html_Data/2020/1.html\",\"wb\") as output:\n",
    "                    output.write(text_utf)"
   ]
  },
  {
   "cell_type": "code",
   "execution_count": 36,
   "id": "986f4e07",
   "metadata": {},
   "outputs": [],
   "source": [
    "url=\"https://en.tutiempo.net/climate/02-2020/ws-421810.html\"\n",
    "texts=requests.get(url)\n",
    "text_utf=texts.text.encode('utf=8')\n",
    "\n",
    "if not os.path.exists(\"/A/Html_Data/2020\"):\n",
    "                os.makedirs(\"/A/Html_Data/2020\")\n",
    "with open(\"/A/Html_Data/2020/2.html\",\"wb\") as output:\n",
    "                    output.write(text_utf)"
   ]
  },
  {
   "cell_type": "code",
   "execution_count": 37,
   "id": "1fb09953",
   "metadata": {},
   "outputs": [],
   "source": [
    "url=\"https://en.tutiempo.net/climate/03-2020/ws-421810.html\"\n",
    "texts=requests.get(url)\n",
    "text_utf=texts.text.encode('utf=8')\n",
    "\n",
    "if not os.path.exists(\"/A/Html_Data/2020\"):\n",
    "                os.makedirs(\"/A/Html_Data/2020\")\n",
    "with open(\"/A/Html_Data/2020/3.html\",\"wb\") as output:\n",
    "                    output.write(text_utf)"
   ]
  },
  {
   "cell_type": "code",
   "execution_count": 38,
   "id": "307be2d1",
   "metadata": {},
   "outputs": [],
   "source": [
    "url=\"https://en.tutiempo.net/climate/04-2020/ws-421810.html\"\n",
    "texts=requests.get(url)\n",
    "text_utf=texts.text.encode('utf=8')\n",
    "\n",
    "if not os.path.exists(\"/A/Html_Data/2020\"):\n",
    "                os.makedirs(\"/A/Html_Data/2020\")\n",
    "with open(\"/A/Html_Data/2020/4.html\",\"wb\") as output:\n",
    "                    output.write(text_utf)"
   ]
  },
  {
   "cell_type": "code",
   "execution_count": 39,
   "id": "a91bc252",
   "metadata": {},
   "outputs": [],
   "source": [
    "url=\"https://en.tutiempo.net/climate/05-2020/ws-421810.html\"\n",
    "texts=requests.get(url)\n",
    "text_utf=texts.text.encode('utf=8')\n",
    "\n",
    "if not os.path.exists(\"/A/Html_Data/2020\"):\n",
    "                os.makedirs(\"/A/Html_Data/2020\")\n",
    "with open(\"/A/Html_Data/2020/5.html\",\"wb\") as output:\n",
    "                    output.write(text_utf)"
   ]
  },
  {
   "cell_type": "code",
   "execution_count": 40,
   "id": "daef851d",
   "metadata": {},
   "outputs": [],
   "source": [
    "url=\"https://en.tutiempo.net/climate/06-2020/ws-421810.html\"\n",
    "texts=requests.get(url)\n",
    "text_utf=texts.text.encode('utf=8')\n",
    "\n",
    "if not os.path.exists(\"/A/Html_Data/2020\"):\n",
    "                os.makedirs(\"/A/Html_Data/2020\")\n",
    "with open(\"/A/Html_Data/2020/6.html\",\"wb\") as output:\n",
    "                    output.write(text_utf)"
   ]
  },
  {
   "cell_type": "code",
   "execution_count": 41,
   "id": "8cb2accd",
   "metadata": {},
   "outputs": [],
   "source": [
    "url=\"https://en.tutiempo.net/climate/07-2020/ws-421810.html\"\n",
    "texts=requests.get(url)\n",
    "text_utf=texts.text.encode('utf=8')\n",
    "\n",
    "if not os.path.exists(\"/A/Html_Data/2020\"):\n",
    "                os.makedirs(\"/A/Html_Data/2020\")\n",
    "with open(\"/A/Html_Data/2020/7.html\",\"wb\") as output:\n",
    "                    output.write(text_utf)"
   ]
  },
  {
   "cell_type": "code",
   "execution_count": 42,
   "id": "c2e843e7",
   "metadata": {},
   "outputs": [],
   "source": [
    "url=\"https://en.tutiempo.net/climate/08-2020/ws-421810.html\"\n",
    "texts=requests.get(url)\n",
    "text_utf=texts.text.encode('utf=8')\n",
    "\n",
    "if not os.path.exists(\"/A/Html_Data/2020\"):\n",
    "                os.makedirs(\"/A/Html_Data/2020\")\n",
    "with open(\"/A/Html_Data/2020/8.html\",\"wb\") as output:\n",
    "                    output.write(text_utf)"
   ]
  },
  {
   "cell_type": "code",
   "execution_count": 43,
   "id": "b7be1b20",
   "metadata": {},
   "outputs": [],
   "source": [
    "url=\"https://en.tutiempo.net/climate/09-2020/ws-421810.html\"\n",
    "texts=requests.get(url)\n",
    "text_utf=texts.text.encode('utf=8')\n",
    "\n",
    "if not os.path.exists(\"/A/Html_Data/2020\"):\n",
    "                os.makedirs(\"/A/Html_Data/2020\")\n",
    "with open(\"/A/Html_Data/2020/9.html\",\"wb\") as output:\n",
    "                    output.write(text_utf)"
   ]
  },
  {
   "cell_type": "code",
   "execution_count": 44,
   "id": "b2035196",
   "metadata": {},
   "outputs": [],
   "source": [
    "url=\"https://en.tutiempo.net/climate/10-2020/ws-421810.html\"\n",
    "texts=requests.get(url)\n",
    "text_utf=texts.text.encode('utf=8')\n",
    "\n",
    "if not os.path.exists(\"/A/Html_Data/2020\"):\n",
    "                os.makedirs(\"/A/Html_Data/2020\")\n",
    "with open(\"/A/Html_Data/2020/10.html\",\"wb\") as output:\n",
    "                    output.write(text_utf)"
   ]
  },
  {
   "cell_type": "code",
   "execution_count": 45,
   "id": "14e0701c",
   "metadata": {},
   "outputs": [],
   "source": [
    "url=\"https://en.tutiempo.net/climate/11-2020/ws-421810.html\"\n",
    "texts=requests.get(url)\n",
    "text_utf=texts.text.encode('utf=8')\n",
    "\n",
    "if not os.path.exists(\"/A/Html_Data/2020\"):\n",
    "                os.makedirs(\"/A/Html_Data/2020\")\n",
    "with open(\"/A/Html_Data/2020/11.html\",\"wb\") as output:\n",
    "                    output.write(text_utf)"
   ]
  },
  {
   "cell_type": "code",
   "execution_count": 46,
   "id": "46f2f1f4",
   "metadata": {},
   "outputs": [],
   "source": [
    "url=\"https://en.tutiempo.net/climate/12-2020/ws-421810.html\"\n",
    "texts=requests.get(url)\n",
    "text_utf=texts.text.encode('utf=8')\n",
    "\n",
    "if not os.path.exists(\"/A/Html_Data/2020\"):\n",
    "                os.makedirs(\"/A/Html_Data/2020\")\n",
    "with open(\"/A/Html_Data/2020/12.html\",\"wb\") as output:\n",
    "                    output.write(text_utf)"
   ]
  },
  {
   "cell_type": "code",
   "execution_count": null,
   "id": "8f747813",
   "metadata": {},
   "outputs": [],
   "source": []
  }
 ],
 "metadata": {
  "kernelspec": {
   "display_name": "Python 3",
   "language": "python",
   "name": "python3"
  },
  "language_info": {
   "codemirror_mode": {
    "name": "ipython",
    "version": 3
   },
   "file_extension": ".py",
   "mimetype": "text/x-python",
   "name": "python",
   "nbconvert_exporter": "python",
   "pygments_lexer": "ipython3",
   "version": "3.8.8"
  }
 },
 "nbformat": 4,
 "nbformat_minor": 5
}
